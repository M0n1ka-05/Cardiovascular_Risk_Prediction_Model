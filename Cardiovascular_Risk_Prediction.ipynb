{
  "nbformat": 4,
  "nbformat_minor": 0,
  "metadata": {
    "colab": {
      "name": "Cardiovascular Risk Prediction.ipynb",
      "provenance": [],
      "collapsed_sections": [],
      "authorship_tag": "ABX9TyMsMqfkn87n8UHcus/3+gxe",
      "include_colab_link": true
    },
    "kernelspec": {
      "name": "python3",
      "display_name": "Python 3"
    },
    "language_info": {
      "name": "python"
    }
  },
  "cells": [
    {
      "cell_type": "markdown",
      "metadata": {
        "id": "view-in-github",
        "colab_type": "text"
      },
      "source": [
        "<a href=\"https://colab.research.google.com/github/M0n1ka-05/Cardiovascular_Risk_Prediction_Model/blob/main/Cardiovascular_Risk_Prediction.ipynb\" target=\"_parent\"><img src=\"https://colab.research.google.com/assets/colab-badge.svg\" alt=\"Open In Colab\"/></a>"
      ]
    },
    {
      "cell_type": "markdown",
      "metadata": {
        "id": "K-6-lkAbT7pa"
      },
      "source": [
        "### **Cardiovascular Risk Prediction**"
      ]
    },
    {
      "cell_type": "markdown",
      "metadata": {
        "id": "U5VeEiEqWQg1"
      },
      "source": [
        "**Problem Description:**\n",
        "\n",
        "The dataset is from an ongoing cardiovascular study on residents of the town of Framingham,\n",
        "Massachusetts. The classification goal is to predict whether the patient has a 10-year risk of\n",
        "future coronary heart disease (CHD). The dataset provides the patients’ information. It includes over 4,000 records and 15 attributes.\n",
        "\n",
        "Each attribute is a potential risk factor. There are both demographic, behavioral, and medical risk\n",
        "factors.\n"
      ]
    },
    {
      "cell_type": "markdown",
      "metadata": {
        "id": "zFHc-023WuYJ"
      },
      "source": [
        "**Data Description:**\n",
        "\n"
      ]
    },
    {
      "cell_type": "markdown",
      "metadata": {
        "id": "RvVUVrgZfv3g"
      },
      "source": [
        "**Independent Features:**\n",
        "\n",
        "• Sex: male or female(\"M\" or \"F\") \n",
        "\n",
        "• Age: Age of the patient \n",
        "\n",
        "• is_smoking: whether or not the patient is a current smoker (\"YES\" or \"NO\") \n",
        "\n",
        "• Cigs Per Day: the number of cigarettes that the person smoked on average in one day \n",
        "\n",
        "• BP Meds: whether or not the patient was on blood pressure medication (Nominal) \n",
        "\n",
        "• Prevalent Stroke: whether or not the patient had previously had a stroke (Nominal)\n",
        "\n",
        "• Prevalent Hyp: whether or not the patient was hypertensive (Nominal) \n",
        "\n",
        "• Diabetes: whether or not the patient had diabetes (Nominal) \n",
        "\n",
        "• Tot Chol: total cholesterol level (Continuous) \n",
        "\n",
        "• Sys BP: systolic blood pressure (Continuous) \n",
        "\n",
        "• Dia BP: diastolic blood pressure (Continuous) \n",
        "\n",
        "• BMI: Body Mass Index (Continuous) \n",
        "\n",
        "• Heart Rate: heart rate (Continuous) \n",
        "\n",
        "• Glucose: glucose level (Continuous) \n",
        "\n",
        "**Target Variable:**\n",
        "\n",
        "• TenYearCHD (binary: “1”, means “Yes”, “0” means “No”)\n"
      ]
    },
    {
      "cell_type": "code",
      "metadata": {
        "id": "wurVrrATpZRY"
      },
      "source": [
        "#importing libraries\n",
        "import pandas as pd\n",
        "import numpy as np\n",
        "import matplotlib.pyplot as plt\n",
        "import seaborn as sns\n",
        "%matplotlib inline\n",
        "\n",
        "from scipy import stats\n",
        "from scipy.stats import norm, skew\n",
        "\n",
        "import warnings\n",
        "warnings.filterwarnings('ignore')"
      ],
      "execution_count": 19,
      "outputs": []
    },
    {
      "cell_type": "code",
      "metadata": {
        "id": "5qLzuMssWNvx"
      },
      "source": [
        "from sklearn.model_selection import train_test_split"
      ],
      "execution_count": 2,
      "outputs": []
    },
    {
      "cell_type": "code",
      "metadata": {
        "colab": {
          "base_uri": "https://localhost:8080/"
        },
        "id": "lIS7hEwOp8Tj",
        "outputId": "77bc3ec2-ab2b-411a-c05e-cdf9f083ab82"
      },
      "source": [
        "from google.colab import drive\n",
        "drive.mount('/content/drive')"
      ],
      "execution_count": 3,
      "outputs": [
        {
          "output_type": "stream",
          "text": [
            "Mounted at /content/drive\n"
          ],
          "name": "stdout"
        }
      ]
    },
    {
      "cell_type": "code",
      "metadata": {
        "id": "RFSbaELNp8Qp"
      },
      "source": [
        "file1 = ('/content/drive/MyDrive/AlmaBetter/Cardiovascular Risk Prediction/data_cardiovascular_risk.csv')"
      ],
      "execution_count": 4,
      "outputs": []
    },
    {
      "cell_type": "code",
      "metadata": {
        "id": "0jnoPdNTp8M9"
      },
      "source": [
        "df= pd.read_csv(file1)"
      ],
      "execution_count": 5,
      "outputs": []
    },
    {
      "cell_type": "code",
      "metadata": {
        "id": "q-o9n7OOhL5i"
      },
      "source": [
        "#Dividing dataset into training and testing set:\n",
        "X_train, X_test = train_test_split(df, test_size=0.20, random_state=1)"
      ],
      "execution_count": 9,
      "outputs": []
    },
    {
      "cell_type": "code",
      "metadata": {
        "id": "eH66eITRYF9t"
      },
      "source": [
        "train_df=pd.DataFrame(X_train, columns=['id', 'age', 'education', 'sex', 'is_smoking', 'cigsPerDay', 'BPMeds',\n",
        "       'prevalentStroke', 'prevalentHyp', 'diabetes', 'totChol', 'sysBP',\n",
        "       'diaBP', 'BMI', 'heartRate', 'glucose','TenYearCHD']) "
      ],
      "execution_count": 10,
      "outputs": []
    },
    {
      "cell_type": "code",
      "metadata": {
        "id": "4EAJVOxYqXX-"
      },
      "source": [
        "test_df=pd.DataFrame(X_test, columns=['id', 'age', 'education', 'sex', 'is_smoking', 'cigsPerDay', 'BPMeds',\n",
        "       'prevalentStroke', 'prevalentHyp', 'diabetes', 'totChol', 'sysBP',\n",
        "       'diaBP', 'BMI', 'heartRate', 'glucose','TenYearCHD']) "
      ],
      "execution_count": 13,
      "outputs": []
    },
    {
      "cell_type": "code",
      "metadata": {
        "colab": {
          "base_uri": "https://localhost:8080/",
          "height": 137
        },
        "id": "_JRlJRNutW8-",
        "outputId": "1d80b013-1fbe-4cb5-aa97-db917892bec8"
      },
      "source": [
        "train_df.head(3)"
      ],
      "execution_count": 21,
      "outputs": [
        {
          "output_type": "execute_result",
          "data": {
            "text/html": [
              "<div>\n",
              "<style scoped>\n",
              "    .dataframe tbody tr th:only-of-type {\n",
              "        vertical-align: middle;\n",
              "    }\n",
              "\n",
              "    .dataframe tbody tr th {\n",
              "        vertical-align: top;\n",
              "    }\n",
              "\n",
              "    .dataframe thead th {\n",
              "        text-align: right;\n",
              "    }\n",
              "</style>\n",
              "<table border=\"1\" class=\"dataframe\">\n",
              "  <thead>\n",
              "    <tr style=\"text-align: right;\">\n",
              "      <th></th>\n",
              "      <th>id</th>\n",
              "      <th>age</th>\n",
              "      <th>education</th>\n",
              "      <th>sex</th>\n",
              "      <th>is_smoking</th>\n",
              "      <th>cigsPerDay</th>\n",
              "      <th>BPMeds</th>\n",
              "      <th>prevalentStroke</th>\n",
              "      <th>prevalentHyp</th>\n",
              "      <th>diabetes</th>\n",
              "      <th>totChol</th>\n",
              "      <th>sysBP</th>\n",
              "      <th>diaBP</th>\n",
              "      <th>BMI</th>\n",
              "      <th>heartRate</th>\n",
              "      <th>glucose</th>\n",
              "      <th>TenYearCHD</th>\n",
              "    </tr>\n",
              "  </thead>\n",
              "  <tbody>\n",
              "    <tr>\n",
              "      <th>303</th>\n",
              "      <td>303</td>\n",
              "      <td>63</td>\n",
              "      <td>1.0</td>\n",
              "      <td>F</td>\n",
              "      <td>NO</td>\n",
              "      <td>0.0</td>\n",
              "      <td>0.0</td>\n",
              "      <td>0</td>\n",
              "      <td>0</td>\n",
              "      <td>0</td>\n",
              "      <td>222.0</td>\n",
              "      <td>146.0</td>\n",
              "      <td>78.0</td>\n",
              "      <td>16.92</td>\n",
              "      <td>65.0</td>\n",
              "      <td>74.0</td>\n",
              "      <td>1</td>\n",
              "    </tr>\n",
              "    <tr>\n",
              "      <th>1435</th>\n",
              "      <td>1435</td>\n",
              "      <td>61</td>\n",
              "      <td>2.0</td>\n",
              "      <td>F</td>\n",
              "      <td>NO</td>\n",
              "      <td>0.0</td>\n",
              "      <td>0.0</td>\n",
              "      <td>0</td>\n",
              "      <td>1</td>\n",
              "      <td>0</td>\n",
              "      <td>194.0</td>\n",
              "      <td>148.0</td>\n",
              "      <td>89.0</td>\n",
              "      <td>23.48</td>\n",
              "      <td>100.0</td>\n",
              "      <td>101.0</td>\n",
              "      <td>0</td>\n",
              "    </tr>\n",
              "    <tr>\n",
              "      <th>675</th>\n",
              "      <td>675</td>\n",
              "      <td>49</td>\n",
              "      <td>2.0</td>\n",
              "      <td>M</td>\n",
              "      <td>YES</td>\n",
              "      <td>50.0</td>\n",
              "      <td>0.0</td>\n",
              "      <td>0</td>\n",
              "      <td>0</td>\n",
              "      <td>0</td>\n",
              "      <td>252.0</td>\n",
              "      <td>156.0</td>\n",
              "      <td>91.0</td>\n",
              "      <td>25.35</td>\n",
              "      <td>70.0</td>\n",
              "      <td>114.0</td>\n",
              "      <td>1</td>\n",
              "    </tr>\n",
              "  </tbody>\n",
              "</table>\n",
              "</div>"
            ],
            "text/plain": [
              "        id  age  education sex  ...    BMI  heartRate  glucose  TenYearCHD\n",
              "303    303   63        1.0   F  ...  16.92       65.0     74.0           1\n",
              "1435  1435   61        2.0   F  ...  23.48      100.0    101.0           0\n",
              "675    675   49        2.0   M  ...  25.35       70.0    114.0           1\n",
              "\n",
              "[3 rows x 17 columns]"
            ]
          },
          "metadata": {
            "tags": []
          },
          "execution_count": 21
        }
      ]
    },
    {
      "cell_type": "code",
      "metadata": {
        "id": "NM3UAQIjYqZm",
        "colab": {
          "base_uri": "https://localhost:8080/"
        },
        "outputId": "efa42350-b223-4426-b610-9abcb3134f3a"
      },
      "source": [
        "train_df.shape"
      ],
      "execution_count": 12,
      "outputs": [
        {
          "output_type": "execute_result",
          "data": {
            "text/plain": [
              "(2712, 17)"
            ]
          },
          "metadata": {
            "tags": []
          },
          "execution_count": 12
        }
      ]
    },
    {
      "cell_type": "code",
      "metadata": {
        "colab": {
          "base_uri": "https://localhost:8080/"
        },
        "id": "u3BPTw2FtTcr",
        "outputId": "1ab7f6ee-8d43-455e-8260-efec6ded92b9"
      },
      "source": [
        "train_df.info()"
      ],
      "execution_count": 20,
      "outputs": [
        {
          "output_type": "stream",
          "text": [
            "<class 'pandas.core.frame.DataFrame'>\n",
            "Int64Index: 2712 entries, 303 to 1061\n",
            "Data columns (total 17 columns):\n",
            " #   Column           Non-Null Count  Dtype  \n",
            "---  ------           --------------  -----  \n",
            " 0   id               2712 non-null   int64  \n",
            " 1   age              2712 non-null   int64  \n",
            " 2   education        2645 non-null   float64\n",
            " 3   sex              2712 non-null   object \n",
            " 4   is_smoking       2712 non-null   object \n",
            " 5   cigsPerDay       2695 non-null   float64\n",
            " 6   BPMeds           2678 non-null   float64\n",
            " 7   prevalentStroke  2712 non-null   int64  \n",
            " 8   prevalentHyp     2712 non-null   int64  \n",
            " 9   diabetes         2712 non-null   int64  \n",
            " 10  totChol          2684 non-null   float64\n",
            " 11  sysBP            2712 non-null   float64\n",
            " 12  diaBP            2712 non-null   float64\n",
            " 13  BMI              2701 non-null   float64\n",
            " 14  heartRate        2711 non-null   float64\n",
            " 15  glucose          2485 non-null   float64\n",
            " 16  TenYearCHD       2712 non-null   int64  \n",
            "dtypes: float64(9), int64(6), object(2)\n",
            "memory usage: 381.4+ KB\n"
          ],
          "name": "stdout"
        }
      ]
    },
    {
      "cell_type": "code",
      "metadata": {
        "colab": {
          "base_uri": "https://localhost:8080/"
        },
        "id": "ygQgtGOftbku",
        "outputId": "a85550be-2dbf-4227-ae4d-ee913fb8b7da"
      },
      "source": [
        "#to get count of null values in train_df\n",
        "train_df.isna().sum()"
      ],
      "execution_count": 22,
      "outputs": [
        {
          "output_type": "execute_result",
          "data": {
            "text/plain": [
              "id                   0\n",
              "age                  0\n",
              "education           67\n",
              "sex                  0\n",
              "is_smoking           0\n",
              "cigsPerDay          17\n",
              "BPMeds              34\n",
              "prevalentStroke      0\n",
              "prevalentHyp         0\n",
              "diabetes             0\n",
              "totChol             28\n",
              "sysBP                0\n",
              "diaBP                0\n",
              "BMI                 11\n",
              "heartRate            1\n",
              "glucose            227\n",
              "TenYearCHD           0\n",
              "dtype: int64"
            ]
          },
          "metadata": {
            "tags": []
          },
          "execution_count": 22
        }
      ]
    },
    {
      "cell_type": "markdown",
      "metadata": {
        "id": "6W9m3bfhsPrY"
      },
      "source": [
        "After split, we made two different dataframe, one is test and other is training. We will keep our testing set untouched and will perform our EDA on training set."
      ]
    },
    {
      "cell_type": "markdown",
      "metadata": {
        "id": "jI-vFifBshEJ"
      },
      "source": [
        "### **Exploratory Data Analysis**"
      ]
    },
    {
      "cell_type": "markdown",
      "metadata": {
        "id": "CilrEjYNvVrl"
      },
      "source": [
        "In our dataset we have both categorical as well as numerical features. We will analyse each feature and try to understand the relation between independent and dependent feature.\n",
        "\n",
        "Also we will discuss importance of each feature.\n",
        "\n",
        "Id column is just unique value of each record so it is of no use in our model. We will drop Id column on later stage."
      ]
    },
    {
      "cell_type": "markdown",
      "metadata": {
        "id": "Ef17H4xyt6Sg"
      },
      "source": [
        "**Independent Variable**"
      ]
    },
    {
      "cell_type": "markdown",
      "metadata": {
        "id": "yoz8aFy8wOCH"
      },
      "source": [
        "**Education**"
      ]
    },
    {
      "cell_type": "code",
      "metadata": {
        "colab": {
          "base_uri": "https://localhost:8080/",
          "height": 352
        },
        "id": "9mdkXB4CwWgp",
        "outputId": "415f8623-1171-4f67-bacc-cdbe0bf79c17"
      },
      "source": [
        "plt.figure(figsize=(10,5))\n",
        "sns.countplot(x='education',hue='TenYearCHD',data=train_df, palette='summer')\n"
      ],
      "execution_count": 39,
      "outputs": [
        {
          "output_type": "execute_result",
          "data": {
            "text/plain": [
              "<matplotlib.axes._subplots.AxesSubplot at 0x7f5451af58d0>"
            ]
          },
          "metadata": {
            "tags": []
          },
          "execution_count": 39
        },
        {
          "output_type": "display_data",
          "data": {
            "image/png": "[encoded data removed]",
            "text/plain": [
              "<Figure size 720x360 with 1 Axes>"
            ]
          },
          "metadata": {
            "tags": [],
            "needs_background": "light"
          }
        }
      ]
    },
    {
      "cell_type": "markdown",
      "metadata": {
        "id": "3BRjsE9fzhOX"
      },
      "source": [
        "**Sex**"
      ]
    },
    {
      "cell_type": "code",
      "metadata": {
        "colab": {
          "base_uri": "https://localhost:8080/",
          "height": 352
        },
        "id": "G82kaAazyt5k",
        "outputId": "aec97f08-ee4c-4778-e3df-cb26a43e3309"
      },
      "source": [
        "plt.figure(figsize=(10,5))\n",
        "sns.countplot(x='sex',hue='TenYearCHD',data=train_df, palette='spring')"
      ],
      "execution_count": 41,
      "outputs": [
        {
          "output_type": "execute_result",
          "data": {
            "text/plain": [
              "<matplotlib.axes._subplots.AxesSubplot at 0x7f5451a8d650>"
            ]
          },
          "metadata": {
            "tags": []
          },
          "execution_count": 41
        },
        {
          "output_type": "display_data",
          "data": {
            "image/png": "[encoded data removed]",
            "text/plain": [
              "<Figure size 720x360 with 1 Axes>"
            ]
          },
          "metadata": {
            "tags": [],
            "needs_background": "light"
          }
        }
      ]
    },
    {
      "cell_type": "code",
      "metadata": {
        "colab": {
          "base_uri": "https://localhost:8080/",
          "height": 137
        },
        "id": "BbzaEQ7uu6Lg",
        "outputId": "20aafa67-740f-4aab-b9e2-d40be616985f"
      },
      "source": [
        "train_df.head(3)"
      ],
      "execution_count": 26,
      "outputs": [
        {
          "output_type": "execute_result",
          "data": {
            "text/html": [
              "<div>\n",
              "<style scoped>\n",
              "    .dataframe tbody tr th:only-of-type {\n",
              "        vertical-align: middle;\n",
              "    }\n",
              "\n",
              "    .dataframe tbody tr th {\n",
              "        vertical-align: top;\n",
              "    }\n",
              "\n",
              "    .dataframe thead th {\n",
              "        text-align: right;\n",
              "    }\n",
              "</style>\n",
              "<table border=\"1\" class=\"dataframe\">\n",
              "  <thead>\n",
              "    <tr style=\"text-align: right;\">\n",
              "      <th></th>\n",
              "      <th>id</th>\n",
              "      <th>age</th>\n",
              "      <th>education</th>\n",
              "      <th>sex</th>\n",
              "      <th>is_smoking</th>\n",
              "      <th>cigsPerDay</th>\n",
              "      <th>BPMeds</th>\n",
              "      <th>prevalentStroke</th>\n",
              "      <th>prevalentHyp</th>\n",
              "      <th>diabetes</th>\n",
              "      <th>totChol</th>\n",
              "      <th>sysBP</th>\n",
              "      <th>diaBP</th>\n",
              "      <th>BMI</th>\n",
              "      <th>heartRate</th>\n",
              "      <th>glucose</th>\n",
              "      <th>TenYearCHD</th>\n",
              "    </tr>\n",
              "  </thead>\n",
              "  <tbody>\n",
              "    <tr>\n",
              "      <th>303</th>\n",
              "      <td>303</td>\n",
              "      <td>63</td>\n",
              "      <td>1.0</td>\n",
              "      <td>F</td>\n",
              "      <td>NO</td>\n",
              "      <td>0.0</td>\n",
              "      <td>0.0</td>\n",
              "      <td>0</td>\n",
              "      <td>0</td>\n",
              "      <td>0</td>\n",
              "      <td>222.0</td>\n",
              "      <td>146.0</td>\n",
              "      <td>78.0</td>\n",
              "      <td>16.92</td>\n",
              "      <td>65.0</td>\n",
              "      <td>74.0</td>\n",
              "      <td>1</td>\n",
              "    </tr>\n",
              "    <tr>\n",
              "      <th>1435</th>\n",
              "      <td>1435</td>\n",
              "      <td>61</td>\n",
              "      <td>2.0</td>\n",
              "      <td>F</td>\n",
              "      <td>NO</td>\n",
              "      <td>0.0</td>\n",
              "      <td>0.0</td>\n",
              "      <td>0</td>\n",
              "      <td>1</td>\n",
              "      <td>0</td>\n",
              "      <td>194.0</td>\n",
              "      <td>148.0</td>\n",
              "      <td>89.0</td>\n",
              "      <td>23.48</td>\n",
              "      <td>100.0</td>\n",
              "      <td>101.0</td>\n",
              "      <td>0</td>\n",
              "    </tr>\n",
              "    <tr>\n",
              "      <th>675</th>\n",
              "      <td>675</td>\n",
              "      <td>49</td>\n",
              "      <td>2.0</td>\n",
              "      <td>M</td>\n",
              "      <td>YES</td>\n",
              "      <td>50.0</td>\n",
              "      <td>0.0</td>\n",
              "      <td>0</td>\n",
              "      <td>0</td>\n",
              "      <td>0</td>\n",
              "      <td>252.0</td>\n",
              "      <td>156.0</td>\n",
              "      <td>91.0</td>\n",
              "      <td>25.35</td>\n",
              "      <td>70.0</td>\n",
              "      <td>114.0</td>\n",
              "      <td>1</td>\n",
              "    </tr>\n",
              "  </tbody>\n",
              "</table>\n",
              "</div>"
            ],
            "text/plain": [
              "        id  age  education sex  ...    BMI  heartRate  glucose  TenYearCHD\n",
              "303    303   63        1.0   F  ...  16.92       65.0     74.0           1\n",
              "1435  1435   61        2.0   F  ...  23.48      100.0    101.0           0\n",
              "675    675   49        2.0   M  ...  25.35       70.0    114.0           1\n",
              "\n",
              "[3 rows x 17 columns]"
            ]
          },
          "metadata": {
            "tags": []
          },
          "execution_count": 26
        }
      ]
    },
    {
      "cell_type": "markdown",
      "metadata": {
        "id": "ioxUTe2Izmh0"
      },
      "source": [
        "**is_smoking**"
      ]
    },
    {
      "cell_type": "code",
      "metadata": {
        "colab": {
          "base_uri": "https://localhost:8080/",
          "height": 352
        },
        "id": "EyTrP4RZytzF",
        "outputId": "1548bb19-f20c-4087-e784-5512c2a21752"
      },
      "source": [
        "plt.figure(figsize=(10,5))\n",
        "sns.countplot(x='is_smoking',hue='TenYearCHD',data=train_df, palette='coolwarm')"
      ],
      "execution_count": 45,
      "outputs": [
        {
          "output_type": "execute_result",
          "data": {
            "text/plain": [
              "<matplotlib.axes._subplots.AxesSubplot at 0x7f54518ec410>"
            ]
          },
          "metadata": {
            "tags": []
          },
          "execution_count": 45
        },
        {
          "output_type": "display_data",
          "data": {
            "image/png": "[encoded data removed]",
            "text/plain": [
              "<Figure size 720x360 with 1 Axes>"
            ]
          },
          "metadata": {
            "tags": [],
            "needs_background": "light"
          }
        }
      ]
    },
    {
      "cell_type": "code",
      "metadata": {
        "colab": {
          "base_uri": "https://localhost:8080/"
        },
        "id": "t0wMvzBU0Cf9",
        "outputId": "241b046e-3ac8-431d-f82d-58e05b56f361"
      },
      "source": [
        "train_df.columns"
      ],
      "execution_count": 46,
      "outputs": [
        {
          "output_type": "execute_result",
          "data": {
            "text/plain": [
              "Index(['id', 'age', 'education', 'sex', 'is_smoking', 'cigsPerDay', 'BPMeds',\n",
              "       'prevalentStroke', 'prevalentHyp', 'diabetes', 'totChol', 'sysBP',\n",
              "       'diaBP', 'BMI', 'heartRate', 'glucose', 'TenYearCHD'],\n",
              "      dtype='object')"
            ]
          },
          "metadata": {
            "tags": []
          },
          "execution_count": 46
        }
      ]
    },
    {
      "cell_type": "code",
      "metadata": {
        "colab": {
          "base_uri": "https://localhost:8080/"
        },
        "id": "b9RxLSQNzetI",
        "outputId": "1278f7df-a8b3-4c55-90ac-9a31f5d14fad"
      },
      "source": [
        "train_df['cigsPerDay'].value_counts()"
      ],
      "execution_count": 47,
      "outputs": [
        {
          "output_type": "execute_result",
          "data": {
            "text/plain": [
              "0.0     1364\n",
              "20.0     486\n",
              "30.0     137\n",
              "15.0     136\n",
              "5.0       86\n",
              "9.0       85\n",
              "10.0      82\n",
              "3.0       69\n",
              "40.0      51\n",
              "1.0       39\n",
              "25.0      33\n",
              "43.0      30\n",
              "2.0       13\n",
              "35.0      12\n",
              "6.0       10\n",
              "7.0        8\n",
              "60.0       7\n",
              "4.0        6\n",
              "8.0        6\n",
              "18.0       5\n",
              "17.0       5\n",
              "50.0       5\n",
              "23.0       4\n",
              "11.0       4\n",
              "12.0       3\n",
              "45.0       2\n",
              "13.0       2\n",
              "70.0       1\n",
              "19.0       1\n",
              "16.0       1\n",
              "14.0       1\n",
              "38.0       1\n",
              "Name: cigsPerDay, dtype: int64"
            ]
          },
          "metadata": {
            "tags": []
          },
          "execution_count": 47
        }
      ]
    },
    {
      "cell_type": "code",
      "metadata": {
        "id": "LwgKJPcvzeqO"
      },
      "source": [
        ""
      ],
      "execution_count": null,
      "outputs": []
    },
    {
      "cell_type": "code",
      "metadata": {
        "id": "AcrjTDO-zem4"
      },
      "source": [
        ""
      ],
      "execution_count": null,
      "outputs": []
    },
    {
      "cell_type": "code",
      "metadata": {
        "id": "xstbjdsezehP"
      },
      "source": [
        ""
      ],
      "execution_count": null,
      "outputs": []
    }
  ]
}